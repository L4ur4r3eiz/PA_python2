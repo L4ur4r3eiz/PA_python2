{
  "nbformat": 4,
  "nbformat_minor": 0,
  "metadata": {
    "colab": {
      "provenance": [],
      "authorship_tag": "ABX9TyOaKWcMCkWi7FqM24CdE2us",
      "include_colab_link": true
    },
    "kernelspec": {
      "name": "python3",
      "display_name": "Python 3"
    },
    "language_info": {
      "name": "python"
    }
  },
  "cells": [
    {
      "cell_type": "markdown",
      "metadata": {
        "id": "view-in-github",
        "colab_type": "text"
      },
      "source": [
        "<a href=\"https://colab.research.google.com/github/L4ur4r3eiz/PA_python2/blob/main/aula/P.A%20_1C/custodefabricacarros.ipynb\" target=\"_parent\"><img src=\"https://colab.research.google.com/assets/colab-badge.svg\" alt=\"Open In Colab\"/></a>"
      ]
    },
    {
      "cell_type": "code",
      "source": [
        "#input\n",
        "custo_fabrica = float(input(\"Digite o custo de fabrica do carro: \"))\n",
        "\n",
        "\n",
        "p_impostos = 45 / 100\n",
        "p_distribuidor = 28 / 100\n",
        "\n",
        "#processamento\n",
        "impostos = custo_fabrica * p_impostos\n",
        "custo_com_impostos = custo_fabrica + impostos\n",
        "distribuicao = custo_com_impostos * p_distribuidor\n",
        "custo_ao_consumidor = custo_com_impostos + distribuicao\n",
        "\n",
        "#saida\n",
        "print(\"O custo ao consumidor é: R$ \" , custo_ao_consumidor)"
      ],
      "metadata": {
        "colab": {
          "base_uri": "https://localhost:8080/"
        },
        "id": "cLxaQJbG8sAn",
        "outputId": "f57e13c9-1a40-442f-db6a-58748fdd82da"
      },
      "execution_count": 13,
      "outputs": [
        {
          "output_type": "stream",
          "name": "stdout",
          "text": [
            "Digite o custo de fabrica: 50.00\n",
            "O custo ao consumidor é: R$  92.8\n"
          ]
        }
      ]
    }
  ]
}