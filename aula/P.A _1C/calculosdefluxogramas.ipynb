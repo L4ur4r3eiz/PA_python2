{
  "nbformat": 4,
  "nbformat_minor": 0,
  "metadata": {
    "colab": {
      "provenance": [],
      "authorship_tag": "ABX9TyOvvrp4vE5YwVzEX8svACVh",
      "include_colab_link": true
    },
    "kernelspec": {
      "name": "python3",
      "display_name": "Python 3"
    },
    "language_info": {
      "name": "python"
    }
  },
  "cells": [
    {
      "cell_type": "markdown",
      "metadata": {
        "id": "view-in-github",
        "colab_type": "text"
      },
      "source": [
        "<a href=\"https://colab.research.google.com/github/L4ur4r3eiz/PA_python2/blob/main/aula/P.A%20_1C/calculosdefluxogramas.ipynb\" target=\"_parent\"><img src=\"https://colab.research.google.com/assets/colab-badge.svg\" alt=\"Open In Colab\"/></a>"
      ]
    },
    {
      "cell_type": "markdown",
      "source": [
        "**Atividade de \"exemplos\"**"
      ],
      "metadata": {
        "id": "OcnB54vth22l"
      }
    },
    {
      "cell_type": "code",
      "execution_count": null,
      "metadata": {
        "colab": {
          "base_uri": "https://localhost:8080/"
        },
        "id": "NJzEXoy9aMFF",
        "outputId": "971536e6-33ce-4d0c-86cc-f09644ae3269"
      },
      "outputs": [
        {
          "output_type": "stream",
          "name": "stdout",
          "text": [
            "Digite a nota da P1: 8\n",
            "Digite a nota da P2: 5\n",
            "A média é:  6.5\n"
          ]
        }
      ],
      "source": [
        "# Recebe as notas das provas\n",
        "n1 = float(input(\"Digite a nota da P1: \"))\n",
        "n2 = float(input(\"Digite a nota da P2: \"))\n",
        "\n",
        "# Calcula a média\n",
        "media = (n1 + n2) / 2\n",
        "\n",
        "# Mostra a média\n",
        "print(\"A média é: \", media)\n"
      ]
    },
    {
      "cell_type": "code",
      "source": [
        "# Recebe a cotação do dólar e o valor em reais\n",
        "cotacao_dolar = float(input(\"Digite a cotação do dólar: \"))\n",
        "valor_reais = float(input(\"Digite o valor em reais: \"))\n",
        "\n",
        "# Converte para dólares\n",
        "valor_dolar = valor_reais / cotacao_dolar\n",
        "\n",
        "# Mostra o resultado\n",
        "print(\"O valor em dólares é: R$\" , valor_dolar )"
      ],
      "metadata": {
        "colab": {
          "base_uri": "https://localhost:8080/"
        },
        "id": "TFp0IwUYaqbq",
        "outputId": "5e73d69a-78d1-40c9-8503-a53bcfd3aa1e"
      },
      "execution_count": null,
      "outputs": [
        {
          "output_type": "stream",
          "name": "stdout",
          "text": [
            "Digite a cotação do dólar: 6.60\n",
            "Digite o valor em reais: 5.00\n",
            "O valor em dólares é: R$ 0.7575757575757576\n"
          ]
        }
      ]
    },
    {
      "cell_type": "code",
      "source": [
        "# Recebe o preço unitário e a quantidade vendida\n",
        "preco_unitario = float(input(\"Digite o preço unitário da peça: \"))\n",
        "quantidade_vendida = int(input(\"Digite a quantidade vendida: \"))\n",
        "\n",
        "# Calcula o valor total da venda e a comissão\n",
        "valor_total_venda = preco_unitario * quantidade_vendida\n",
        "comissao = valor_total_venda * 0.05\n",
        "\n",
        "# Mostra os resultados\n",
        "print(\"Valor total da venda: R$\" , valor_total_venda)\n",
        "print(\"Comissão do vendedor: R$\" , comissao)"
      ],
      "metadata": {
        "colab": {
          "base_uri": "https://localhost:8080/"
        },
        "id": "MxnJTj1tbh9I",
        "outputId": "0e36ca36-fe2d-47e8-b53b-22fdaad4f6f7"
      },
      "execution_count": null,
      "outputs": [
        {
          "output_type": "stream",
          "name": "stdout",
          "text": [
            "Digite o preço unitário da peça: 5\n",
            "Digite a quantidade vendida: 10\n",
            "Valor total da venda: R$ 50.0\n",
            "Comissão do vendedor: R$ 2.5\n"
          ]
        }
      ]
    },
    {
      "cell_type": "markdown",
      "source": [
        "**Exercicios de P.A**"
      ],
      "metadata": {
        "id": "Mz3KVQQtbyVv"
      }
    },
    {
      "cell_type": "markdown",
      "source": [
        "Exercicio 1"
      ],
      "metadata": {
        "id": "YkHmC-pshWH2"
      }
    },
    {
      "cell_type": "code",
      "source": [
        "#input\n",
        " custo_fabrica = float(input(\"Digite o custo de fábrica do carro: R$\"))\n",
        "\n",
        "\n",
        " p_impostos = 45 / 100\n",
        " p_distribuidor = 28 / 100\n",
        "\n",
        "#processamento\n",
        " impostos = custo_fabrica * p_impostos\n",
        " custo_com_impostos = custo_fabrica + impostos\n",
        " distribuicao = custo_com_impostos * p_distribuidor\n",
        " custo_ao_consumidor = custo_com_impostos + distribuicao\n",
        "\n",
        "#saida\n",
        " print(\"O custo ao consumidor é: R$ \" , custo_ao_consumidor)"
      ],
      "metadata": {
        "colab": {
          "base_uri": "https://localhost:8080/"
        },
        "id": "r9RCNKBHcmpE",
        "outputId": "24d1b62f-cec7-4d0e-bf32-6646c0eee5ca"
      },
      "execution_count": null,
      "outputs": [
        {
          "output_type": "stream",
          "name": "stdout",
          "text": [
            "Digite o custo de fábrica do carro: R$48.000\n",
            "O custo ao consumidor é: R$  89.088\n"
          ]
        }
      ]
    },
    {
      "cell_type": "markdown",
      "source": [
        "exercicio 2"
      ],
      "metadata": {
        "id": "JdMgFEv1iHaV"
      }
    },
    {
      "cell_type": "code",
      "source": [
        "#input\n",
        "horas = int(input(\"Digite a quantidade de horas: \"))\n",
        "min = int(input(\"Digite a quantidade de minutos: \"))\n",
        "\n",
        "#processamento\n",
        "min_decimal = min / 60\n",
        "horas_decimal = horas + min_decimal\n",
        "\n",
        "#saida\n",
        "print(\"O valor em horas decimais é: \" , horas_decimal )"
      ],
      "metadata": {
        "colab": {
          "base_uri": "https://localhost:8080/"
        },
        "id": "QryNLoB4d_mx",
        "outputId": "cba9603a-58a5-4199-889f-c9f2be7f3edc"
      },
      "execution_count": null,
      "outputs": [
        {
          "output_type": "stream",
          "name": "stdout",
          "text": [
            "Digite a quantidade de horas: 50\n",
            "Digite a quantidade de minutos: 5000\n",
            "O valor em horas decimais é:  133.33333333333331\n"
          ]
        }
      ]
    },
    {
      "cell_type": "markdown",
      "source": [
        "exercico 3"
      ],
      "metadata": {
        "id": "0ZMS1XDok2Fr"
      }
    },
    {
      "cell_type": "code",
      "source": [
        "#input\n",
        "#PT= por hora\n",
        "#th_trabalhadas= total de horas trabalhadas\n",
        "horas = int(input(\"Digite o número de horas trabalhadas: \"))\n",
        "minutos = int(input(\"Digite o número de minutos trabalhados: \"))\n",
        "\n",
        "\n",
        "#processamento\n",
        "minutos_decimal = minutos / 60\n",
        "\n",
        "PT = float(input(\"Digite o valor que você ganha por hora: R$\"))\n",
        "\n",
        "\n",
        "th_trabalhadas = horas + minutos_decimal\n",
        "salario = th_trabalhadas * PT\n",
        "hora_extra = salario * 70 / 100 + salario\n",
        "\n",
        "#saida\n",
        "print(\"O total que você irá ganhar é: R$ \" , hora_extra)"
      ],
      "metadata": {
        "colab": {
          "base_uri": "https://localhost:8080/"
        },
        "id": "vuWUL8hbk0OV",
        "outputId": "88ad24e0-b603-479f-fb8d-c5299f320545"
      },
      "execution_count": null,
      "outputs": [
        {
          "output_type": "stream",
          "name": "stdout",
          "text": [
            "Digite o número de horas trabalhadas: 15\n",
            "Digite o número de minutos trabalhados: 45\n",
            "Digite o valor que você ganha por hora: R$25\n",
            "O total que você irá ganhar é: R$  669.375\n"
          ]
        }
      ]
    }
  ]
}