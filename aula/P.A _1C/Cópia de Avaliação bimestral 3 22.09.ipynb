{
 "cells": [
  {
   "cell_type": "markdown",
   "metadata": {
    "id": "XpJAZxJGnsjo"
   },
   "source": [
    "Coloque seu nome aqui:"
   ]
  },
  {
   "cell_type": "markdown",
   "metadata": {
    "id": "psR_IyuqtxJc"
   },
   "source": [
    "**Atividade Avaliativa **\n",
    "\n",
    "Enunciado:\n",
    "\n",
    "Crie um programa em Python para avaliar uma competição de bandas de música. O programa deve:\n",
    "\n",
    "Perguntar a quantidade de bandas participantes (mínimo 3).\n",
    "\n",
    "Perguntar o nome de cada banda.\n",
    "\n",
    "Para cada banda, receber as notas de 5 jurados (valores de 0 a 10).\n",
    "\n",
    "Calcular a média das notas de cada banda e armazenar o resultado em um dicionário, onde a chave será o nome da banda e o valor será a média das notas.\n",
    "\n",
    "Ao final, mostrar:\n",
    "\n",
    "A média de cada banda.\n",
    "\n",
    "O nome da banda vencedora (a que tiver maior média)."
   ]
  },
  {
   "cell_type": "code",
   "execution_count": 87,
   "metadata": {
    "id": "3v1htaJlrcvG"
   },
   "outputs": [
    {
     "name": "stdout",
     "output_type": "stream",
     "text": [
      "Quantas bandas vão participar (mínimo 3): 3\n",
      "Digite o nome da banda: la\n",
      "Nota do jurado: sd\n"
     ]
    },
    {
     "ename": "ValueError",
     "evalue": "could not convert string to float: 'sd'",
     "output_type": "error",
     "traceback": [
      "\u001b[1;31m---------------------------------------------------------------------------\u001b[0m",
      "\u001b[1;31mValueError\u001b[0m                                Traceback (most recent call last)",
      "Cell \u001b[1;32mIn [87], line 12\u001b[0m\n\u001b[0;32m      9\u001b[0m soma_notas \u001b[38;5;241m=\u001b[39m \u001b[38;5;241m0\u001b[39m\n\u001b[0;32m     11\u001b[0m \u001b[38;5;28;01mfor\u001b[39;00m j \u001b[38;5;129;01min\u001b[39;00m \u001b[38;5;28mrange\u001b[39m(\u001b[38;5;241m5\u001b[39m):\n\u001b[1;32m---> 12\u001b[0m     nota \u001b[38;5;241m=\u001b[39m \u001b[38;5;28mfloat\u001b[39m(\u001b[38;5;28minput\u001b[39m(\u001b[38;5;124m\"\u001b[39m\u001b[38;5;124mNota do jurado: \u001b[39m\u001b[38;5;124m\"\u001b[39m))\n\u001b[0;32m     13\u001b[0m     \u001b[38;5;28;01mwhile\u001b[39;00m nota \u001b[38;5;241m<\u001b[39m \u001b[38;5;241m0\u001b[39m \u001b[38;5;129;01mor\u001b[39;00m nota \u001b[38;5;241m>\u001b[39m \u001b[38;5;241m10\u001b[39m:\n\u001b[0;32m     14\u001b[0m         nota \u001b[38;5;241m=\u001b[39m \u001b[38;5;28mfloat\u001b[39m(\u001b[38;5;28minput\u001b[39m(\u001b[38;5;124m\"\u001b[39m\u001b[38;5;124mNota inválida. Digite uma nota entre 0 e 10: \u001b[39m\u001b[38;5;124m\"\u001b[39m))\n",
      "\u001b[1;31mValueError\u001b[0m: could not convert string to float: 'sd'"
     ]
    }
   ],
   "source": [
    "bandas = int(input(\"Quantas bandas vão participar(minimo 3): \"))\n",
    "while bandas <3:\n",
    "    bandas = int(input(\"numero invalido, precisa ser 3 ou mais: \"))\n",
    "    \n",
    "vencedora = \"\"\n",
    "maior_media = 0\n",
    "\n",
    "for i in range(bandas):\n",
    "    nome = input(\"Digite o nome das banda: \")\n",
    "    soma_notas = 0\n",
    "\n",
    "    for i in range(5):\n",
    "        nota = float(input(\"Nota do jurado:\"))\n",
    "    \n",
    "    soma_nota = soma_nota + notas\n",
    "    media = soma_nota/5\n",
    "    print(\"Banda\", nome, \"Media: \", media)\n",
    "    \n",
    "    if media > maior_media:\n",
    "        maior_media = media\n",
    "        vencedora =  nome\n",
    "        \n",
    "print(\"A banda vencedora foi\", vencedora, \"com media\", maior_media)\n",
    "    \n",
    "    "
   ]
  },
  {
   "cell_type": "markdown",
   "metadata": {
    "id": "fRV1N-Q4G7BK"
   },
   "source": [
    "Enunciado:\n",
    "\n",
    "Crie um programa que conte quantas vezes cada palavra aparece em uma frase.\n",
    "\n",
    "Pedir ao usuário para digitar uma frase\n",
    "\n",
    "Imprimir a palavra e quantas vezes ela aparece"
   ]
  },
  {
   "cell_type": "code",
   "execution_count": 67,
   "metadata": {
    "id": "HwK3-mVQHv8j"
   },
   "outputs": [
    {
     "name": "stdout",
     "output_type": "stream",
     "text": [
      "digite uma fraselaura reis linda\n",
      "{'laura': 1, 'reis': 1, 'linda': 1}\n"
     ]
    }
   ],
   "source": [
    "frase = input(\"digite uma frase\")\n",
    "palavras = frase.split()\n",
    "\n",
    "contagem = {}\n",
    "\n",
    "for palavra in palavras:\n",
    "    if palavra in contagem:\n",
    "        contagem[palavra]  += 1\n",
    "    else: contagem[palavra] = 1\n",
    "print(contagem)        \n"
   ]
  },
  {
   "cell_type": "markdown",
   "metadata": {
    "id": "BKrOSqrOI2T5"
   },
   "source": [
    "Enunciado:\n",
    "\n",
    "Crie um programa em python que imprima números pares\n",
    "\n",
    "Pedir o usuário para digitar uma lista com mínimo 10 números\n",
    "\n",
    "Criar uma nova somente com numeros pares\n",
    "\n",
    "Imprimir números pares\n",
    "\n"
   ]
  },
  {
   "cell_type": "code",
   "execution_count": 69,
   "metadata": {
    "id": "dBf7H6s9MjgZ"
   },
   "outputs": [
    {
     "name": "stdout",
     "output_type": "stream",
     "text": [
      "digite 10 numeros diferentes10\n",
      "digite 10 numeros diferentes20\n",
      "digite 10 numeros diferentes2932\n",
      "digite 10 numeros diferentes232\n",
      "digite 10 numeros diferentes2324\n",
      "digite 10 numeros diferentes456647675\n",
      "digite 10 numeros diferentes35463475\n",
      "digite 10 numeros diferentes453\n",
      "digite 10 numeros diferentes3\n",
      "digite 10 numeros diferentes4\n",
      "Entre os numeros que você digitou os numeros pares são:  [10, 20, 2932, 232, 2324, 4]\n"
     ]
    }
   ],
   "source": [
    "np = []\n",
    "\n",
    "for i in range(10):\n",
    "    num = int(input(\"digite 10 numeros diferentes\"))\n",
    "    if num % 2 == 0:\n",
    "        np.append(num)\n",
    "        \n",
    "print(\"Entre os numeros que você digitou os numeros pares são: \", np)        "
   ]
  }
 ],
 "metadata": {
  "colab": {
   "authorship_tag": "ABX9TyMPfa4id0nMFHSWqcbBwSar",
   "provenance": [
    {
     "file_id": "1oEsagsr0AUsUTO9iGnea3JAW6NiCwqeB",
     "timestamp": 1758547990346
    },
    {
     "file_id": "1LADCxzYvBqiYFcjSgL_Z5bblVMBbsfJg",
     "timestamp": 1757516692807
    }
   ]
  },
  "kernelspec": {
   "display_name": "Python 3 (ipykernel)",
   "language": "python",
   "name": "python3"
  },
  "language_info": {
   "codemirror_mode": {
    "name": "ipython",
    "version": 3
   },
   "file_extension": ".py",
   "mimetype": "text/x-python",
   "name": "python",
   "nbconvert_exporter": "python",
   "pygments_lexer": "ipython3",
   "version": "3.10.7"
  }
 },
 "nbformat": 4,
 "nbformat_minor": 1
}
