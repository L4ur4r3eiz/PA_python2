{
  "nbformat": 4,
  "nbformat_minor": 0,
  "metadata": {
    "colab": {
      "provenance": [],
      "authorship_tag": "ABX9TyPHM9fmstyGzIcsKr9gcyX7",
      "include_colab_link": true
    },
    "kernelspec": {
      "name": "python3",
      "display_name": "Python 3"
    },
    "language_info": {
      "name": "python"
    }
  },
  "cells": [
    {
      "cell_type": "markdown",
      "metadata": {
        "id": "view-in-github",
        "colab_type": "text"
      },
      "source": [
        "<a href=\"https://colab.research.google.com/github/L4ur4r3eiz/PA_python2/blob/main/aula/P.A%20_1C/estudo_para_prova_de_PA.ipynb\" target=\"_parent\"><img src=\"https://colab.research.google.com/assets/colab-badge.svg\" alt=\"Open In Colab\"/></a>"
      ]
    },
    {
      "cell_type": "markdown",
      "source": [
        "Simule uma situação de alfândega onde o funcionário cadastra itens novos encontrados na mala de uma pessoa que veio de uma viagem internacional. Após o cadastro de todos os itens, o programa imprime uma nota com todos os itens e seus preços, calcula o valor total e, se o valor total ultrapassar 500 dólares, calcula o valor de 60% a ser pago."
      ],
      "metadata": {
        "id": "WsLPF7-hDP5N"
      }
    },
    {
      "cell_type": "code",
      "source": [
        "mercadorias = {}\n",
        "\n",
        "while True:\n",
        "  itens = input(\"digite o nome do produto ou digite sair para sair: \")\n",
        "  if itens == \"sair\":\n",
        "\n",
        "    break\n",
        "  valor = float(input(\"digite o preço do produto: \"))\n",
        "\n",
        "  mercadorias[itens] = valor\n",
        "\n",
        "print(mercadorias)\n",
        "total = sum(mercadorias.values())\n",
        "print(total)\n",
        "if total >500:\n",
        "  total = total+(0.6*total)\n",
        "print(total)\n",
        "\n"
      ],
      "metadata": {
        "colab": {
          "base_uri": "https://localhost:8080/"
        },
        "id": "tMVXY7KQDSI8",
        "outputId": "7b0ff673-f4e3-4dc3-da41-74896d54254c"
      },
      "execution_count": 2,
      "outputs": [
        {
          "output_type": "stream",
          "name": "stdout",
          "text": [
            "digite o nome do produto ou digite sair para sair: celular\n",
            "digite o preço do produto: 40\n",
            "digite o nome do produto ou digite sair para sair: tenis\n",
            "digite o preço do produto: 50\n",
            "digite o nome do produto ou digite sair para sair: sair\n",
            "{'celular': 40.0, 'tenis': 50.0}\n",
            "90.0\n",
            "90.0\n"
          ]
        }
      ]
    },
    {
      "cell_type": "markdown",
      "source": [
        "Descrição: Crie uma listacom cinco números inteiros. Use um laço de repetição e uma condicional para imprimir apenas os números que são múltiplos de 3."
      ],
      "metadata": {
        "id": "l73gR6kxEB0c"
      }
    },
    {
      "cell_type": "code",
      "source": [
        "numeros = [1, 2, 3, 4, 5, 6, 9]\n",
        "\n",
        "for numero in numeros:\n",
        "    if numero % 3 == 0:\n",
        "        print(numero)"
      ],
      "metadata": {
        "colab": {
          "base_uri": "https://localhost:8080/"
        },
        "id": "myKVHOVJECxS",
        "outputId": "5d56d46a-7dfc-4058-91ce-2e6be5aef66d"
      },
      "execution_count": null,
      "outputs": [
        {
          "output_type": "stream",
          "name": "stdout",
          "text": [
            "3\n",
            "6\n",
            "9\n"
          ]
        }
      ]
    },
    {
      "cell_type": "markdown",
      "source": [
        "Descrição: Crie uma string com uma frase. Use uma condicional para verificar se a frase contém a palavra \"Python\". Se sim, substitua a palavra \"Python\" por \"programação\" e imprima a nova frase."
      ],
      "metadata": {
        "id": "2zqTSJ8eE0Ur"
      }
    },
    {
      "cell_type": "code",
      "source": [
        "string = \"Phyton é uma linguagem otima\"\n",
        "\n",
        "if \"Phyton\" in string:\n",
        "    substituir = string.replace(\"Phyton\", \"programação\")\n",
        "    print(substituir)\n"
      ],
      "metadata": {
        "colab": {
          "base_uri": "https://localhost:8080/"
        },
        "id": "Yx2hpFdDE1HR",
        "outputId": "8cb73a2f-40e5-409b-803d-26a1f311c5c8"
      },
      "execution_count": null,
      "outputs": [
        {
          "output_type": "stream",
          "name": "stdout",
          "text": [
            "programação é uma linguagem otima\n"
          ]
        }
      ]
    },
    {
      "cell_type": "markdown",
      "source": [
        "Solicite ao usuário para inserir o nome e a altura de várias pessoas. Preencha um dicionário com essas informações e depois encontre e imprima o nome e a altura da pessoa mais alta e da mais baixa."
      ],
      "metadata": {
        "id": "vdW3JDIYGKi4"
      }
    },
    {
      "cell_type": "code",
      "source": [
        "\n",
        "altura = {}\n",
        "\n",
        "while True:\n",
        "  nome = input(\"Digite o nome da pessoa para cadastro ou sair: \").lower()\n",
        "\n",
        "  if nome == \"sair\":\n",
        "    pessoamaisalta = max(altura, key=altura.get)\n",
        "    pessoamaisbaixa = min(altura, key=altura.get)\n",
        "    break\n",
        "  altura = float(input(f\"Digite a altura de {nome}: \"))\n",
        "\n",
        "  altura[nome]= altura\n",
        "  print(altura)\n",
        "\n",
        "print(f\"A pessoa mais alta é {pessoamaisalta} com altura de {altura[pessoamaisalta]}\")\n",
        "print(f\"A pessoa mais baixa é {pessoamaisbaixa} com altura de {altura[pessoamaisbaixa]}\")"
      ],
      "metadata": {
        "id": "Mx22LbzUGLcG"
      },
      "execution_count": null,
      "outputs": []
    },
    {
      "cell_type": "markdown",
      "source": [],
      "metadata": {
        "id": "SkZVA4Aexjn2"
      }
    },
    {
      "cell_type": "markdown",
      "source": [
        "10) Contador de palavras em uma frase\n",
        "\n",
        "Peça ao usuário uma frase, divida em palavras (split()) e use um dicionário para contar quantas vezes cada palavra aparece."
      ],
      "metadata": {
        "id": "9pzoi0GxlcO8"
      }
    },
    {
      "cell_type": "code",
      "source": [
        "frase = input(\"Digite uma frase: \")\n",
        "contador = {}\n",
        "palavras = frase.split()\n",
        "\n",
        "for palavra in palavras:\n",
        "    if palavra in contador:\n",
        "        contador[palavra] += 1\n",
        "    else:\n",
        "        contador[palavra] = 1\n",
        "\n",
        "print(\"Contagem de palavras:\", contador)\n"
      ],
      "metadata": {
        "colab": {
          "base_uri": "https://localhost:8080/"
        },
        "id": "8zTjGO3Exf0i",
        "outputId": "5a442e02-ec4d-4d5f-81ac-05347a8cfb8f"
      },
      "execution_count": 4,
      "outputs": [
        {
          "output_type": "stream",
          "name": "stdout",
          "text": [
            "Digite uma frase: laura oliveira Reis\n",
            "Contagem de palavras: {'laura': 1, 'oliveira': 1, 'Reis': 1}\n"
          ]
        }
      ]
    },
    {
      "cell_type": "markdown",
      "source": [
        "Percorrendo um dicionário de notas\n",
        "Dado o dicionário notas = {\"Ana\": 8, \"Carlos\": 7, \"Maria\": 10}, use um for para exibir cada aluno com sua nota.\n",
        "\n",
        "\n",
        "[ ]\n"
      ],
      "metadata": {
        "id": "HBbbeYsVybDI"
      }
    },
    {
      "cell_type": "code",
      "source": [
        "notas = {\"laura\" :8 , \"carlos\": 7, \"maria\": 10}\n",
        "for aluno, nota in notas.items():\n",
        "  print(aluno, nota)"
      ],
      "metadata": {
        "colab": {
          "base_uri": "https://localhost:8080/"
        },
        "id": "Ru5h7bN_ycnw",
        "outputId": "7a31d3f7-8ded-45d7-c818-532a8c2f7547"
      },
      "execution_count": 5,
      "outputs": [
        {
          "output_type": "stream",
          "name": "stdout",
          "text": [
            "laura 8\n",
            "carlos 7\n",
            "maria 10\n"
          ]
        }
      ]
    }
  ]
}