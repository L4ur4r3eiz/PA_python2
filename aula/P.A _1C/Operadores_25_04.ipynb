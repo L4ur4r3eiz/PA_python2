{
  "nbformat": 4,
  "nbformat_minor": 0,
  "metadata": {
    "colab": {
      "provenance": [],
      "authorship_tag": "ABX9TyOt59e22EDKvIIWkMwqlWhi",
      "include_colab_link": true
    },
    "kernelspec": {
      "name": "python3",
      "display_name": "Python 3"
    },
    "language_info": {
      "name": "python"
    }
  },
  "cells": [
    {
      "cell_type": "markdown",
      "metadata": {
        "id": "view-in-github",
        "colab_type": "text"
      },
      "source": [
        "<a href=\"https://colab.research.google.com/github/L4ur4r3eiz/PA_python2/blob/main/aula/P.A%20_1C/Operadores_25_04.ipynb\" target=\"_parent\"><img src=\"https://colab.research.google.com/assets/colab-badge.svg\" alt=\"Open In Colab\"/></a>"
      ]
    },
    {
      "cell_type": "markdown",
      "source": [
        "1 - ATIVIDADE"
      ],
      "metadata": {
        "id": "cjPndlZOs4wJ"
      }
    },
    {
      "cell_type": "code",
      "execution_count": null,
      "metadata": {
        "colab": {
          "base_uri": "https://localhost:8080/"
        },
        "id": "fjJvneC8p8lT",
        "outputId": "18bfbd33-33a7-42dc-adb4-d1441fa55b75"
      },
      "outputs": [
        {
          "output_type": "stream",
          "name": "stdout",
          "text": [
            "Digite um valor para saber se é par ou impar50\n",
            "esse numero 50 é par True\n",
            "esse numero 50 é impar False\n"
          ]
        }
      ],
      "source": [
        "valor = int(input(\"Digite um valor para saber se é par ou impar\"))\n",
        "\n",
        "par = (valor%2 == 0 )\n",
        "impar = (valor%2 == 1)\n",
        "\n",
        "print(\"esse numero\", valor, \"é par\", par)\n",
        "print(\"esse numero\", valor, \"é impar\", impar)"
      ]
    },
    {
      "cell_type": "markdown",
      "source": [
        "2 - ATIVIDADE"
      ],
      "metadata": {
        "id": "7xA6XGp0tFbY"
      }
    },
    {
      "cell_type": "code",
      "source": [
        "#entrada\n",
        "l1 = int(input(\"digite o lado 1 do triangulo \"))\n",
        "l2 = int(input(\"digite o lado 2 do triangulo \"))\n",
        "l3 = int(input(\"digite o lado 3 do triangulo \"))\n",
        "#processameno\n",
        "triangulo = (l1+l2>l3) and (l2+l3>l1) and (l3+l1>l2)\n",
        "\n",
        "#saida\n",
        "print(\"Esse triangulo é valido\", triangulo)\n",
        "\n",
        "#precessamento\n",
        "equilatero = (l1 == l2) and (l2 == l3) and (l3 == l1)\n",
        "escaleno = (l1 != l2) and (l2 != l3) and (l3 != l1)\n",
        "isosceles = (l1 == l2) or (l2 == l3) or (l3 == l1)\n",
        "\n",
        "#saida\n",
        "print(\"Esse triangulo é\" , equilatero, \"equilatero\")\n",
        "print(\"Esse triangulo é\" , escaleno, \"escaleno\")\n",
        "print(\"Esse triangulo é\" , isosceles, \"isosceles\")\n"
      ],
      "metadata": {
        "colab": {
          "base_uri": "https://localhost:8080/"
        },
        "id": "xuFQXdv1tKAj",
        "outputId": "a61380c0-6938-470e-9d5b-a90b1f32a707"
      },
      "execution_count": null,
      "outputs": [
        {
          "output_type": "stream",
          "name": "stdout",
          "text": [
            "digite o lado 1 do triangulo 30\n",
            "digite o lado 2 do triangulo 30\n",
            "digite o lado 3 do triangulo 40\n",
            "Esse triangulo é valido True\n",
            "Esse triangulo é False equilatero\n",
            "Esse triangulo é False escaleno\n",
            "Esse triangulo é True isosceles\n"
          ]
        }
      ]
    },
    {
      "cell_type": "code",
      "source": [
        "#entrada\n",
        "peso = float(input(\"Qual é seu peso\"))\n",
        "altura = float(input(\"Qual é sua Altura\"))\n",
        "\n",
        "#processamento\n",
        "IMC = (peso/altura**2)\n",
        "print(\"Seus IMC é \", IMC)\n",
        "\n",
        "Ap = (IMC < 18.5)\n",
        "Pn = (IMC >= 18.9) and (IMC <= 24.9)\n",
        "Sp = (IMC >= 29.9) and (IMC <= 34.9)\n",
        "Ob1 = (IMC >= 34.9) and (IMC <= 39.9)\n",
        "Ob2 = (IMC >= 39.9) and (IMC <= 40)\n",
        "Ob3 = (IMC >= 40) and (IMC <= 100)\n",
        "\n",
        "#saida\n",
        "print(\"Você está abaixo do peso\", Ap)\n",
        "print(\"Seu peso está normal\", Pn)\n",
        "print(\"Você está sobre peso\", Sp)\n",
        "print(\"Você está com obesidade grau 1\", Ob1)\n",
        "print(\"Você está com obesidade grau 2\", Ob2)\n",
        "print(\"Você está com obesidade grau 3\", Ob3)\n"
      ],
      "metadata": {
        "colab": {
          "base_uri": "https://localhost:8080/"
        },
        "id": "OdzWfJmFz__z",
        "outputId": "a4dedb16-a201-4214-957c-d9f9bc795704"
      },
      "execution_count": null,
      "outputs": [
        {
          "output_type": "stream",
          "name": "stdout",
          "text": [
            "Qual é seu peso52\n",
            "Qual é sua Altura1.60\n",
            "Seus IMC é  20.312499999999996\n",
            "Você está abaixo do peso False\n",
            "Seu peso está normal True\n",
            "Você está sobre peso False\n",
            "Você está com obesidade grau 1 False\n",
            "Você está com obesidade grau 2 False\n",
            "Você está com obesidade grau 3 False\n"
          ]
        }
      ]
    },
    {
      "cell_type": "code",
      "source": [
        "idade = float(input(\"Qual é sua idade\"))\n",
        "altura = float(input(\"Qual é sua altura\"))\n",
        "\n",
        "idade = (idade >= 18)\n",
        "altura = (altura >= 1.75)\n",
        "\n",
        "print(\"Você pode entrar\", idade and altura)\n"
      ],
      "metadata": {
        "id": "ecLiMXi4Cpt3",
        "colab": {
          "base_uri": "https://localhost:8080/"
        },
        "outputId": "7b72ed8c-b8d2-4cdf-a8ff-e6f9cb9007ff"
      },
      "execution_count": 2,
      "outputs": [
        {
          "output_type": "stream",
          "name": "stdout",
          "text": [
            "Qual é sua idade18\n",
            "Qual é sua altura1.75\n",
            "Você pode entrar True\n"
          ]
        }
      ]
    },
    {
      "cell_type": "code",
      "source": [],
      "metadata": {
        "id": "OQ-rYi5q6dbm"
      },
      "execution_count": null,
      "outputs": []
    }
  ]
}