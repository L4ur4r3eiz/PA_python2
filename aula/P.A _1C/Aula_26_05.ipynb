{
  "nbformat": 4,
  "nbformat_minor": 0,
  "metadata": {
    "colab": {
      "provenance": [],
      "authorship_tag": "ABX9TyM8b0N3Z054pad46Ns7+wj7",
      "include_colab_link": true
    },
    "kernelspec": {
      "name": "python3",
      "display_name": "Python 3"
    },
    "language_info": {
      "name": "python"
    }
  },
  "cells": [
    {
      "cell_type": "markdown",
      "metadata": {
        "id": "view-in-github",
        "colab_type": "text"
      },
      "source": [
        "<a href=\"https://colab.research.google.com/github/L4ur4r3eiz/PA_python2/blob/main/aula/P.A%20_1C/Aula_26_05.ipynb\" target=\"_parent\"><img src=\"https://colab.research.google.com/assets/colab-badge.svg\" alt=\"Open In Colab\"/></a>"
      ]
    },
    {
      "cell_type": "code",
      "execution_count": 27,
      "metadata": {
        "colab": {
          "base_uri": "https://localhost:8080/"
        },
        "id": "XL0np-PQShA0",
        "outputId": "c487b58c-eee4-4614-e342-e9e152072813"
      },
      "outputs": [
        {
          "output_type": "stream",
          "name": "stdout",
          "text": [
            "Digite a idade do cliente: 70\n",
            "Digite o valor do medicamento: 150\n",
            "Desconto: R$ 30.0\n",
            "Valor final a pagar: R$ 120.0\n"
          ]
        }
      ],
      "source": [
        "idade = int(input(\"Digite a idade do cliente: \"))\n",
        "medicamento = float(input(\"Digite o valor do medicamento: \"))\n",
        "\n",
        "\n",
        "desconto = 0\n",
        "\n",
        "\n",
        "if idade < 12:\n",
        "    desconto = medicamento * 0.15\n",
        "\n",
        "elif idade >= 60 and idade <= 75:\n",
        "    desconto = medicamento * 0.20\n",
        "\n",
        "elif idade > 75:\n",
        "    desconto = medicamento * 0.25\n",
        "\n",
        "else:\n",
        "    desconto = 0\n",
        "\n",
        "\n",
        "preco_final = preco - desconto\n",
        "\n",
        "\n",
        "print(\"Desconto: R$\", desconto )\n",
        "print(\"Valor final a pagar: R$\", preco_final)\n",
        "\n",
        "\n"
      ]
    }
  ]
}