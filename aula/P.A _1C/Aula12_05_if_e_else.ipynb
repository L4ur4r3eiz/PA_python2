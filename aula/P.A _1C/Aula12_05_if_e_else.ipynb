{
  "nbformat": 4,
  "nbformat_minor": 0,
  "metadata": {
    "colab": {
      "provenance": [],
      "authorship_tag": "ABX9TyOOw+1RJ8ZeXh0yrialGuBc",
      "include_colab_link": true
    },
    "kernelspec": {
      "name": "python3",
      "display_name": "Python 3"
    },
    "language_info": {
      "name": "python"
    }
  },
  "cells": [
    {
      "cell_type": "markdown",
      "metadata": {
        "id": "view-in-github",
        "colab_type": "text"
      },
      "source": [
        "<a href=\"https://colab.research.google.com/github/L4ur4r3eiz/PA_python2/blob/main/aula/P.A%20_1C/Aula12_05_if_e_else.ipynb\" target=\"_parent\"><img src=\"https://colab.research.google.com/assets/colab-badge.svg\" alt=\"Open In Colab\"/></a>"
      ]
    },
    {
      "cell_type": "markdown",
      "source": [
        "Exercicio 1"
      ],
      "metadata": {
        "id": "8kGJ0btE44FA"
      }
    },
    {
      "cell_type": "code",
      "source": [
        "ano = int(input(\"Digite o ano: \"))\n",
        "\n",
        "if ano % 4 == 0 and ano % 100 != 0 or ano % 400 == 0:\n",
        "    print(\"O ano é bissexto.\")\n",
        "else:\n",
        "    print(\"O ano não é bissexto.\")"
      ],
      "metadata": {
        "colab": {
          "base_uri": "https://localhost:8080/"
        },
        "id": "Z9CQOh-w46my",
        "outputId": "7caed4fa-efc3-4b68-8284-a4819c615cd5"
      },
      "execution_count": null,
      "outputs": [
        {
          "output_type": "stream",
          "name": "stdout",
          "text": [
            "Digite o ano: 2021\n",
            "O ano não é bissexto.\n"
          ]
        }
      ]
    },
    {
      "cell_type": "markdown",
      "source": [],
      "metadata": {
        "id": "ga7eYdj_6gOC"
      }
    },
    {
      "cell_type": "markdown",
      "source": [
        "Exercicio 2"
      ],
      "metadata": {
        "id": "9vzZgvHq6hya"
      }
    },
    {
      "cell_type": "code",
      "source": [
        "idade =  int(input(\"Digite a idade: \"))\n",
        "\n",
        "if idade <= 12 and idade <= 20 :\n",
        "    print(\"Criança\")\n",
        "else:\n",
        "    print(\"Adulto\")"
      ],
      "metadata": {
        "colab": {
          "base_uri": "https://localhost:8080/"
        },
        "id": "39gYqWNo6fuu",
        "outputId": "2f88c42d-22ae-4be4-caff-8f903c7b6c7a"
      },
      "execution_count": null,
      "outputs": [
        {
          "output_type": "stream",
          "name": "stdout",
          "text": [
            "Digite a idade: 30\n",
            "Adulto\n"
          ]
        }
      ]
    },
    {
      "cell_type": "markdown",
      "source": [
        "exercicio-3"
      ],
      "metadata": {
        "id": "DiIoBhp8Fa-U"
      }
    },
    {
      "cell_type": "code",
      "source": [
        "valor = int(input(\"Digite um valor para saber se é par ou impar\"))\n",
        "\n",
        "if valor % 2 == 0 :\n",
        "    print(\"Par\")\n",
        "else:\n",
        "    print(\"Impar\")"
      ],
      "metadata": {
        "colab": {
          "base_uri": "https://localhost:8080/"
        },
        "id": "9lHZqaXrFh3h",
        "outputId": "e31d0c21-60f3-4ec6-8075-e87d3c495a17"
      },
      "execution_count": null,
      "outputs": [
        {
          "output_type": "stream",
          "name": "stdout",
          "text": [
            "Digite um valor para saber se é par ou impar21\n",
            "Impar\n"
          ]
        }
      ]
    },
    {
      "cell_type": "markdown",
      "source": [
        "Eercicio 3"
      ],
      "metadata": {
        "id": "G0vHDsFjIu8l"
      }
    },
    {
      "cell_type": "code",
      "source": [],
      "metadata": {
        "id": "obr_frjUI0Nt"
      },
      "execution_count": null,
      "outputs": []
    },
    {
      "cell_type": "code",
      "source": [
        "# Entrada\n",
        "l1 = int(input(\"Digite o lado 1 do triângulo: \"))\n",
        "l2 = int(input(\"Digite o lado 2 do triângulo: \"))\n",
        "l3 = int(input(\"Digite o lado 3 do triângulo: \"))\n",
        "\n",
        "# Processamento\n",
        "if (l1 + l2 > l3) and (l2 + l3 > l1) and (l3 + l1 > l2):\n",
        "    print(\"Esse triângulo é válido.\")\n",
        "\n",
        "   #processamento\n",
        "    if l1 == l2 == l3:\n",
        "        print(\"Tipo: Equilátero\")\n",
        "    elif l1 != l2 and l2 != l3 and l3 != l1:\n",
        "        print(\"Tipo: Escaleno\")\n",
        "    else:\n",
        "        print(\"Tipo: Isósceles\")\n",
        "else:\n",
        "    print(\"Esse triângulo NÃO é válido.\")"
      ],
      "metadata": {
        "colab": {
          "base_uri": "https://localhost:8080/"
        },
        "id": "xuFQXdv1tKAj",
        "outputId": "4005d087-46ac-4d5d-ad8d-6bf68ec1d354"
      },
      "execution_count": 4,
      "outputs": [
        {
          "output_type": "stream",
          "name": "stdout",
          "text": [
            "Digite o lado 1 do triângulo: 40\n",
            "Digite o lado 2 do triângulo: 2345\n",
            "Digite o lado 3 do triângulo: 20\n",
            "Esse triângulo NÃO é válido.\n"
          ]
        }
      ]
    },
    {
      "cell_type": "markdown",
      "source": [
        "Exercio 4"
      ],
      "metadata": {
        "id": "d9JoenddKroA"
      }
    },
    {
      "cell_type": "code",
      "source": [
        "# Entrada\n",
        "peso = float(input(\"Qual é seu peso (kg)? \"))\n",
        "altura = float(input(\"Qual é sua altura (m)? \"))\n",
        "\n",
        "# Processamento\n",
        "imc = peso / (altura ** 2)\n",
        "print(f\"Seu IMC é: {imc:.2f}\")\n",
        "\n",
        "# Saída com classificação\n",
        "if imc < 18.5:\n",
        "    print(\"Você está abaixo do peso.\")\n",
        "elif imc < 25:\n",
        "    print(\"Seu peso está normal.\")\n",
        "elif imc < 30:\n",
        "    print(\"Você está com sobrepeso.\")\n",
        "elif imc < 35:\n",
        "    print(\"Você está com obesidade grau 1.\")\n",
        "elif imc < 40:\n",
        "    print(\"Você está com obesidade grau 2.\")\n",
        "else:\n",
        "    print(\"Você está com obesidade grau 3.\")"
      ],
      "metadata": {
        "id": "tfXySJCfKwun"
      },
      "execution_count": null,
      "outputs": []
    },
    {
      "cell_type": "markdown",
      "source": [
        "Exercicio 5"
      ],
      "metadata": {
        "id": "Nh2KuPHeK3kn"
      }
    },
    {
      "cell_type": "code",
      "source": [
        "# Entrada\n",
        "idade = float(input(\"Qual é sua idade? \"))\n",
        "altura = float(input(\"Qual é sua altura? (em metros) \"))\n",
        "\n",
        "# Processamento e saída\n",
        "if idade >= 18 and altura >= 1.75:\n",
        "    print(\"Você pode entrar\")\n",
        "else:\n",
        "    print(\"Você NÃO pode entrar\")\n",
        "\n",
        "\n"
      ],
      "metadata": {
        "colab": {
          "base_uri": "https://localhost:8080/"
        },
        "id": "bJO_7-CbKyOv",
        "outputId": "2dae7ef9-b7a1-4773-cb96-9c9196e718cb"
      },
      "execution_count": 12,
      "outputs": [
        {
          "output_type": "stream",
          "name": "stdout",
          "text": [
            "Qual é sua idade? 20\n",
            "Qual é sua altura? (em metros) 1.75\n",
            "Você pode entrar! ✅\n"
          ]
        }
      ]
    }
  ]
}