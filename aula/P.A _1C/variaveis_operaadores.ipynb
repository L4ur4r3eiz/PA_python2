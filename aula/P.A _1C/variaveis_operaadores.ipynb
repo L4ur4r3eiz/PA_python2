{
  "nbformat": 4,
  "nbformat_minor": 0,
  "metadata": {
    "colab": {
      "provenance": [],
      "authorship_tag": "ABX9TyOXP7Xy+2feAfsRnu6wY4wu",
      "include_colab_link": true
    },
    "kernelspec": {
      "name": "python3",
      "display_name": "Python 3"
    },
    "language_info": {
      "name": "python"
    }
  },
  "cells": [
    {
      "cell_type": "markdown",
      "metadata": {
        "id": "view-in-github",
        "colab_type": "text"
      },
      "source": [
        "<a href=\"https://colab.research.google.com/github/L4ur4r3eiz/PA_python2/blob/main/aula/P.A%20_1C/variaveis_operaadores.ipynb\" target=\"_parent\"><img src=\"https://colab.research.google.com/assets/colab-badge.svg\" alt=\"Open In Colab\"/></a>"
      ]
    },
    {
      "cell_type": "code",
      "execution_count": 17,
      "metadata": {
        "colab": {
          "base_uri": "https://localhost:8080/"
        },
        "id": "Bk_wnqmGVEBP",
        "outputId": "acedadab-b6e7-489a-9d87-f4f233b44ebf"
      },
      "outputs": [
        {
          "output_type": "stream",
          "name": "stdout",
          "text": [
            "Qual anota da primeira prova? 8\n",
            "Qual anota da segunda prova? 9\n",
            "A nota final é  8.5\n"
          ]
        }
      ],
      "source": [
        "nota1 = float(input(\"Qual anota da primeira prova? \"))\n",
        "nota2 = float(input(\"Qual anota da segunda prova? \"))\n",
        "\n",
        "Media = (nota1 + nota2)/2\n",
        "\n",
        "print(\"A nota final é \", Media,)"
      ]
    },
    {
      "cell_type": "code",
      "source": [
        "Fahrenheit  = float(input(\"Qual a temperatura que quer converter? \"))\n",
        "\n",
        "GCelsius = (Fahrenheit - 32)/1.8\n",
        "\n",
        "print(\"A temperatura é \", GCelsius)\n",
        "\n",
        "\n",
        "\n"
      ],
      "metadata": {
        "colab": {
          "base_uri": "https://localhost:8080/"
        },
        "id": "HMaTDwlzateZ",
        "outputId": "34904f5d-50fd-4813-c815-2b83736f8aca"
      },
      "execution_count": 15,
      "outputs": [
        {
          "output_type": "stream",
          "name": "stdout",
          "text": [
            "Qual a temperatura que quer converter? 120\n",
            "A temperatura é  48.888888888888886\n"
          ]
        }
      ]
    },
    {
      "cell_type": "code",
      "source": [
        "#gcelsius é a entrada onde pede os dados\n",
        "#fahrennheit é o processamento onde a conta acontece para sabermos o valor da temperatura\n",
        "GCelsius  = float(input(\"Qual a temperatura que quer converter? \"))\n",
        "\n",
        "Fahrenheit = (GCelsius * 1.8)+32\n",
        "\n",
        "print(\"A temperatura é \", Fahrenheit)\n",
        "\n",
        "\n",
        "\n"
      ],
      "metadata": {
        "colab": {
          "base_uri": "https://localhost:8080/"
        },
        "outputId": "4506c45b-18b3-4de9-ed06-b0316a6453a5",
        "id": "kQAri0_Hdyce"
      },
      "execution_count": null,
      "outputs": [
        {
          "output_type": "stream",
          "name": "stdout",
          "text": [
            "Qual a temperatura que quer converter? 30\n",
            "A temperatura é  86.0\n"
          ]
        }
      ]
    },
    {
      "cell_type": "code",
      "source": [
        "Pecas  = float(input(\"qual valor da peça \"))\n",
        "quantidade  = float(input(\"qual quantidade de peças? \"))\n",
        "\n",
        "valor = quantidade * Pecas\n",
        "\n",
        "print(\"o valor total é \", valor)\n",
        "\n"
      ],
      "metadata": {
        "colab": {
          "base_uri": "https://localhost:8080/"
        },
        "id": "HGh77xb5jyvZ",
        "outputId": "42c1d639-c62b-43d8-ecda-c53d9bff95c3"
      },
      "execution_count": 19,
      "outputs": [
        {
          "output_type": "stream",
          "name": "stdout",
          "text": [
            "qual valor da peça 30\n",
            "qual quantidade de peças? 10\n",
            "o valor total é  300.0\n"
          ]
        }
      ]
    }
  ]
}