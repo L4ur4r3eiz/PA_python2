{
  "nbformat": 4,
  "nbformat_minor": 0,
  "metadata": {
    "colab": {
      "provenance": [],
      "authorship_tag": "ABX9TyN0d3IeDUiW9vZdinFiF0Cu",
      "include_colab_link": true
    },
    "kernelspec": {
      "name": "python3",
      "display_name": "Python 3"
    },
    "language_info": {
      "name": "python"
    }
  },
  "cells": [
    {
      "cell_type": "markdown",
      "metadata": {
        "id": "view-in-github",
        "colab_type": "text"
      },
      "source": [
        "<a href=\"https://colab.research.google.com/github/L4ur4r3eiz/PA_python2/blob/main/aula/P.A%20_1C/Aula05_05.ipynb\" target=\"_parent\"><img src=\"https://colab.research.google.com/assets/colab-badge.svg\" alt=\"Open In Colab\"/></a>"
      ]
    },
    {
      "cell_type": "markdown",
      "source": [
        "1. Comparação de Idades"
      ],
      "metadata": {
        "id": "a6WecefgqUKe"
      }
    },
    {
      "cell_type": "code",
      "source": [
        "idade1 = int(input(\"me fale uma idade\"))\n",
        "idade2 =  int(input(\"me de outra uma idade\"))\n",
        "\n",
        "idade = idade1 > idade2\n",
        "\n",
        "print(idade)"
      ],
      "metadata": {
        "colab": {
          "base_uri": "https://localhost:8080/"
        },
        "id": "Y4nll6xNqkTP",
        "outputId": "7fce47da-57b0-43e0-b9f4-78447d41eb1d"
      },
      "execution_count": null,
      "outputs": [
        {
          "output_type": "stream",
          "name": "stdout",
          "text": [
            "me fale uma idade15\n",
            "me de outra uma idade14\n",
            "True\n"
          ]
        }
      ]
    },
    {
      "cell_type": "markdown",
      "source": [
        "2. Validação de acesso"
      ],
      "metadata": {
        "id": "qc0CAJ64sm1X"
      }
    },
    {
      "cell_type": "code",
      "source": [
        "Usuario = int(input(\"Qual a sua idade?\"))\n",
        "Usuario = Usuario >= 18\n",
        "\n",
        "Senha = input(\"Qual a sua senha?\")\n",
        "Senha = Senha == \"1234\"\n",
        "\n",
        "print(Usuario)"
      ],
      "metadata": {
        "colab": {
          "base_uri": "https://localhost:8080/"
        },
        "id": "hw_yMd-nstvw",
        "outputId": "add01cd5-93b4-4409-bbde-38529ebbb992"
      },
      "execution_count": null,
      "outputs": [
        {
          "output_type": "stream",
          "name": "stdout",
          "text": [
            "Qual a sua idade?18\n",
            "Qual a sua senha?1234\n",
            "True\n"
          ]
        }
      ]
    },
    {
      "cell_type": "markdown",
      "source": [
        "3. Numero fora do intervalo"
      ],
      "metadata": {
        "id": "12ElNor0t2T3"
      }
    },
    {
      "cell_type": "code",
      "source": [
        "Numero = int(input(\"Me fale um numero \"))\n",
        "Numero = 10 <= Numero <= 50\n",
        "\n",
        "print(Numero)"
      ],
      "metadata": {
        "colab": {
          "base_uri": "https://localhost:8080/"
        },
        "id": "3smyyVZft7mT",
        "outputId": "76b480a8-ee75-4561-f03f-f056dc311936"
      },
      "execution_count": null,
      "outputs": [
        {
          "output_type": "stream",
          "name": "stdout",
          "text": [
            "Me fale um numero 60\n",
            "False\n"
          ]
        }
      ]
    },
    {
      "cell_type": "markdown",
      "source": [
        "4. Compra Aprovação"
      ],
      "metadata": {
        "id": "1mSM6J7wwTK9"
      }
    },
    {
      "cell_type": "code",
      "source": [
        "Saldo = float(input(\"Qual é seu saldo?\"))\n",
        "preço = float(input(\"Qual é o preço do produto?\"))\n",
        "digite = int(input(\"Digite o cumpom \"))\n",
        "\n",
        "pode = preço <= Saldo\n",
        "print(pode)\n",
        "cumpom = digite == 1234 and preço >= Saldo\n",
        "print(cumpom)\n",
        "\n",
        "\n",
        "print(\"Pode comprar produto com saldo \", pode)\n",
        "print(\"Pode comprar produto com cumpom \", cumpom)"
      ],
      "metadata": {
        "colab": {
          "base_uri": "https://localhost:8080/"
        },
        "id": "79FgNycXyxBN",
        "outputId": "2cb82d97-a72b-4afa-e9c4-cfb506d26cde"
      },
      "execution_count": null,
      "outputs": [
        {
          "output_type": "stream",
          "name": "stdout",
          "text": [
            "Qual é seu saldo?50\n",
            "Qual é o preço do produto?60\n",
            "Digite o cumpom 1234\n",
            "False\n",
            "True\n",
            "Pode comprar produto com saldo  False\n",
            "Pode comprar produto com cumpom  True\n"
          ]
        }
      ]
    },
    {
      "cell_type": "markdown",
      "source": [
        "5. Checar Condiçoes multiplas"
      ],
      "metadata": {
        "id": "Bqg66XH7E2Ct"
      }
    },
    {
      "cell_type": "code",
      "source": [
        "Numero = float(input(\"Digite um numero\"))\n",
        "\n",
        "par =  Numero % 2 == 0\n",
        "print(par)\n",
        "\n",
        "positivo = Numero > 0\n",
        "print(positivo)\n",
        "\n",
        "print(\"O numero é par \", par)\n",
        "print(\"O numero é positivo \", positivo)\n"
      ],
      "metadata": {
        "colab": {
          "base_uri": "https://localhost:8080/"
        },
        "id": "e6h0YqZaFCPg",
        "outputId": "0bb1e8bf-c327-4bfe-ed4f-1d44e59776a8"
      },
      "execution_count": null,
      "outputs": [
        {
          "output_type": "stream",
          "name": "stdout",
          "text": [
            "Digite um numero-0\n",
            "True\n",
            "False\n",
            "O numero é par  True\n",
            "O numero é positivo  False\n"
          ]
        }
      ]
    },
    {
      "cell_type": "markdown",
      "source": [
        "6. Verifique se é adolecente"
      ],
      "metadata": {
        "id": "FSe3ZaJcFqJd"
      }
    },
    {
      "cell_type": "code",
      "source": [
        "Pessoa = float(input(\"Digite sua idade\"))\n",
        "\n",
        "Adolescente = 13 <= Pessoa <= 17\n",
        "print(Adolescente)"
      ],
      "metadata": {
        "colab": {
          "base_uri": "https://localhost:8080/"
        },
        "id": "e_rCOMweFyxE",
        "outputId": "3941ba35-0708-4062-ceb7-0df55934cb8e"
      },
      "execution_count": null,
      "outputs": [
        {
          "output_type": "stream",
          "name": "stdout",
          "text": [
            "Digite sua idade15\n",
            "True\n"
          ]
        }
      ]
    },
    {
      "cell_type": "markdown",
      "source": [
        "7. Senha correta Admin"
      ],
      "metadata": {
        "id": "l-L8PmalF8-q"
      }
    },
    {
      "cell_type": "code",
      "source": [
        "Adm = int(input(\"Digite 1 se vc é adm \"))\n",
        "Senha = int(input(\"Digite A senha? \"))\n",
        "\n",
        "Adm = 1\n",
        "Senha = Senha == 1234\n",
        "\n",
        "\n",
        "print(\"Senha correta \", Senha)"
      ],
      "metadata": {
        "id": "fBBqOYGcGEDb"
      },
      "execution_count": null,
      "outputs": []
    },
    {
      "cell_type": "markdown",
      "source": [],
      "metadata": {
        "id": "SJAyDfJbGtX-"
      }
    },
    {
      "cell_type": "markdown",
      "source": [],
      "metadata": {
        "id": "E43UYy08Fv3n"
      }
    },
    {
      "cell_type": "markdown",
      "source": [
        "8. Nota pra Aprovação"
      ],
      "metadata": {
        "id": "sRqNDoF9cZXm"
      }
    },
    {
      "cell_type": "code",
      "source": [
        "pessoa = int(input(\"Digite sua nota\"))\n",
        "\n",
        "Aprovado = pessoa >= 6\n",
        "print('O aluno foi aprovado?' , Aprovado)"
      ],
      "metadata": {
        "colab": {
          "base_uri": "https://localhost:8080/"
        },
        "id": "iGLW5WU6cneu",
        "outputId": "12a06bf2-5d0a-489f-c907-0aa1309a76aa"
      },
      "execution_count": 4,
      "outputs": [
        {
          "output_type": "stream",
          "name": "stdout",
          "text": [
            "Digite sua nota9\n",
            "O aluno foi aprovado? True\n"
          ]
        }
      ]
    },
    {
      "cell_type": "markdown",
      "source": [
        "9. Velocidade"
      ],
      "metadata": {
        "id": "LW0r_kGadCRu"
      }
    },
    {
      "cell_type": "code",
      "source": [
        "carro= int(input(\"Qual foi sua velocidade?\"))\n",
        "\n",
        "Km = carro >= 80\n",
        "print('Você foi multado' , Km)"
      ],
      "metadata": {
        "colab": {
          "base_uri": "https://localhost:8080/"
        },
        "id": "nkchNrKDdGst",
        "outputId": "325cfcd2-6675-473d-8956-7b9cb73c815d"
      },
      "execution_count": 6,
      "outputs": [
        {
          "output_type": "stream",
          "name": "stdout",
          "text": [
            "Qual foi sua velocidade?150\n",
            "Você foi multado True\n"
          ]
        }
      ]
    },
    {
      "cell_type": "markdown",
      "source": [
        "10. Triagem de vento"
      ],
      "metadata": {
        "id": "VIaej32SdbpV"
      }
    },
    {
      "cell_type": "code",
      "source": [
        "convite=int(input(\"digite o codigo do convite\"))\n",
        "idade=int(input(\"digite a sua idade \"))\n",
        "\n",
        "\n",
        "convite = convite == 1234\n",
        "idade = idade >= 18\n",
        "\n",
        "print(\"pode entrar no evento ?\", idade)"
      ],
      "metadata": {
        "colab": {
          "base_uri": "https://localhost:8080/"
        },
        "id": "LeZU4KwYdhGd",
        "outputId": "69b5b02c-0447-4ffa-cf6b-af2d6813781c"
      },
      "execution_count": 8,
      "outputs": [
        {
          "output_type": "stream",
          "name": "stdout",
          "text": [
            "digite o codigo do convite1234\n",
            "digite a sua idade 18\n",
            "pode entrar no evento ? True\n"
          ]
        }
      ]
    }
  ]
}